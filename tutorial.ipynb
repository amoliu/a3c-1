{
 "cells": [
  {
   "cell_type": "markdown",
   "metadata": {},
   "source": [
    "### 此ipynb的目的是解釋各個.py檔的功用，盡量以互動式的方式來講解"
   ]
  },
  {
   "cell_type": "markdown",
   "metadata": {},
   "source": [
    "# A3C整體架構圖\n",
    "\n",
    "![](img/A3C-Architecture.png)"
   ]
  },
  {
   "cell_type": "markdown",
   "metadata": {},
   "source": [
    "* actor.py為上圖右側藍色的Parallel Learner\n",
    "* learner中的神經網路與Optimizer實作在a3c.py，不同的是我們Optimizer實作Adam而非RMSProp\n",
    "* 上圖左側上方紅色的Global Learner實作在main.py中\n",
    "* 上圖左側下方紫色的Environment實作在envs.py中\n",
    "* 額外實作一個monitor.py，負責看Global Learner的學習狀況，並記錄影像"
   ]
  },
  {
   "cell_type": "markdown",
   "metadata": {},
   "source": [
    "# envs.py\n",
    "\n",
    "### 負責創建atari環境以及前處理"
   ]
  },
  {
   "cell_type": "code",
   "execution_count": 1,
   "metadata": {
    "collapsed": true
   },
   "outputs": [],
   "source": [
    "import gym\n",
    "import cv2\n",
    "import numpy as np\n",
    "from gym.spaces.box import Box\n",
    "from matplotlib import pyplot as plt\n",
    "\n",
    "%matplotlib inline"
   ]
  },
  {
   "cell_type": "code",
   "execution_count": 2,
   "metadata": {
    "collapsed": false
   },
   "outputs": [
    {
     "name": "stderr",
     "output_type": "stream",
     "text": [
      "[2017-06-08 04:24:50,679] Making new env: Pong-v0\n"
     ]
    },
    {
     "name": "stdout",
     "output_type": "stream",
     "text": [
      "原始畫面，shape為： (210, 160, 3)\n"
     ]
    },
    {
     "data": {
      "image/png": "[encoded data removed]",
      "text/plain": [
       "<matplotlib.figure.Figure at 0x7fba6c35fbe0>"
      ]
     },
     "metadata": {},
     "output_type": "display_data"
    }
   ],
   "source": [
    "env = gym.make(\"Pong-v0\")\n",
    "frame = env.reset()\n",
    "\n",
    "print('原始畫面，shape為：', frame.shape)\n",
    "plt.imshow(frame)\n",
    "plt.show()"
   ]
  },
  {
   "cell_type": "markdown",
   "metadata": {},
   "source": [
    "### * AtariRescale42x42類"
   ]
  },
  {
   "cell_type": "code",
   "execution_count": 3,
   "metadata": {
    "collapsed": true
   },
   "outputs": [],
   "source": [
    "# 確保env的observation_space會是一個值介於0至1的Box\n",
    "class AtariRescale42x42(gym.ObservationWrapper):\n",
    "\n",
    "    def __init__(self, env=None):\n",
    "        super(AtariRescale42x42, self).__init__(env)\n",
    "        self.observation_space = Box(0.0, 1.0, [1, 42, 42])\n",
    "\n",
    "    def _observation(self, observation):\n",
    "        return _process_frame42(observation)\n",
    "\n",
    "\n",
    "\n",
    "\n",
    "def _process_frame42(frame):\n",
    "    frame = frame[34:34 + 160, :160]\n",
    "    # Resize by half, then down to 42x42 (essentially mipmapping). If\n",
    "    # we resize directly we lose pixels that, when mapped to 42x42,\n",
    "    # aren't close enough to the pixel boundary.\n",
    "    frame = cv2.resize(frame, (80, 80))\n",
    "    frame = cv2.resize(frame, (42, 42))\n",
    "    frame = frame.mean(2)\n",
    "    frame = frame.astype(np.float32)\n",
    "    frame *= (1.0 / 255.0)\n",
    "    return frame"
   ]
  },
  {
   "cell_type": "code",
   "execution_count": 4,
   "metadata": {
    "collapsed": false
   },
   "outputs": [
    {
     "name": "stdout",
     "output_type": "stream",
     "text": [
      "<TimeLimit<AtariEnv<Pong-v0>>>\n",
      "<AtariRescale42x42<TimeLimit<AtariEnv<Pong-v0>>>>\n",
      "Box(1, 42, 42)\n"
     ]
    }
   ],
   "source": [
    "print(env)\n",
    "env = AtariRescale42x42(env)\n",
    "print(env)\n",
    "print(env.observation_space)"
   ]
  },
  {
   "cell_type": "code",
   "execution_count": 5,
   "metadata": {
    "collapsed": false
   },
   "outputs": [
    {
     "data": {
      "text/plain": [
       "[__main__.AtariRescale42x42,\n",
       " gym.core.ObservationWrapper,\n",
       " gym.core.Wrapper,\n",
       " gym.core.Env,\n",
       " object]"
      ]
     },
     "execution_count": 5,
     "metadata": {},
     "output_type": "execute_result"
    }
   ],
   "source": [
    "# Method Resolution Order\n",
    "env.__class__.mro()"
   ]
  },
  {
   "cell_type": "markdown",
   "metadata": {},
   "source": [
    "### * _process_frame42函數"
   ]
  },
  {
   "cell_type": "code",
   "execution_count": 6,
   "metadata": {
    "collapsed": false
   },
   "outputs": [
    {
     "name": "stdout",
     "output_type": "stream",
     "text": [
      "裁切之後的畫面，shape為： (160, 160, 3)\n"
     ]
    },
    {
     "data": {
      "image/png": "[encoded data removed]",
      "text/plain": [
       "<matplotlib.figure.Figure at 0x7fba6c375c18>"
      ]
     },
     "metadata": {},
     "output_type": "display_data"
    },
    {
     "name": "stdout",
     "output_type": "stream",
     "text": [
      "像素的分佈。\n",
      "[ 24  43  53  95 101 109 111 118 228]\n",
      "[    8 25528     8     8    64 25528    64 25528    64]\n"
     ]
    }
   ],
   "source": [
    "# 裁切\n",
    "frame = frame[34:34 + 160, :160]\n",
    "\n",
    "print('裁切之後的畫面，shape為：', frame.shape)\n",
    "plt.imshow(frame)\n",
    "plt.show()\n",
    "\n",
    "print('像素的分佈。')\n",
    "pixel, count = np.unique(frame, return_counts=True)\n",
    "print(pixel)\n",
    "print(count)"
   ]
  },
  {
   "cell_type": "code",
   "execution_count": 7,
   "metadata": {
    "collapsed": false
   },
   "outputs": [
    {
     "name": "stdout",
     "output_type": "stream",
     "text": [
      "mapping至80x80之後的畫面，shape為： (80, 80, 3)\n"
     ]
    },
    {
     "data": {
      "image/png": "[encoded data removed]",
      "text/plain": [
       "<matplotlib.figure.Figure at 0x7fba6bd82198>"
      ]
     },
     "metadata": {},
     "output_type": "display_data"
    },
    {
     "name": "stdout",
     "output_type": "stream",
     "text": [
      "像素的分佈。\n",
      "[ 24  34  43  53  81  95 101 107 109 111 118 228]\n",
      "[   1    2 6381    1    2    1   16    2 6381   16 6381   16]\n"
     ]
    }
   ],
   "source": [
    "# 藉由cv2套件的幫助，將frame mapping至42x42\n",
    "frame = cv2.resize(frame, (80, 80))\n",
    "\n",
    "print('mapping至80x80之後的畫面，shape為：', frame.shape)\n",
    "plt.imshow(frame)\n",
    "plt.show()\n",
    "\n",
    "print('像素的分佈。')\n",
    "pixel, count = np.unique(frame, return_counts=True)\n",
    "print(pixel)\n",
    "print(count)"
   ]
  },
  {
   "cell_type": "code",
   "execution_count": 8,
   "metadata": {
    "collapsed": false
   },
   "outputs": [
    {
     "name": "stdout",
     "output_type": "stream",
     "text": [
      "mapping至42x42之後的畫面，shape為： (42, 42, 3)\n"
     ]
    },
    {
     "data": {
      "image/png": "[encoded data removed]",
      "text/plain": [
       "<matplotlib.figure.Figure at 0x7fba6bd82320>"
      ]
     },
     "metadata": {},
     "output_type": "display_data"
    },
    {
     "name": "stdout",
     "output_type": "stream",
     "text": [
      "像素的分佈。\n",
      "[ 35  42  43  45  47  86 101 102 105 108 109 111 115 117 118 127 215 228]\n",
      "[   1    1 1752    1    4    1    3    1    2    1 1757    4    1    1 1757\n",
      "    1    1    3]\n"
     ]
    }
   ],
   "source": [
    "# 藉由cv2套件的幫助，將frame mapping至42x42\n",
    "frame = cv2.resize(frame, (42, 42))\n",
    "\n",
    "print('mapping至42x42之後的畫面，shape為：', frame.shape)\n",
    "plt.imshow(frame)\n",
    "plt.show()\n",
    "\n",
    "print('像素的分佈。')\n",
    "pixel, count = np.unique(frame, return_counts=True)\n",
    "print(pixel)\n",
    "print(count)"
   ]
  },
  {
   "cell_type": "code",
   "execution_count": 9,
   "metadata": {
    "collapsed": false,
    "scrolled": false
   },
   "outputs": [
    {
     "name": "stdout",
     "output_type": "stream",
     "text": [
      "三個channel取平均之後，shape為： (42, 42)\n"
     ]
    },
    {
     "data": {
      "image/png": "[encoded data removed]",
      "text/plain": [
       "<matplotlib.figure.Figure at 0x7fba6948ec88>"
      ]
     },
     "metadata": {},
     "output_type": "display_data"
    },
    {
     "name": "stdout",
     "output_type": "stream",
     "text": [
      "像素的分佈。\n",
      "[  76.33333333   88.           90.           90.66666667   91.33333333\n",
      "  115.66666667  142.66666667  146.66666667]\n",
      "[   1    1 1752    1    4    1    1    3]\n"
     ]
    }
   ],
   "source": [
    "# 取三個channel的平均\n",
    "frame = frame.mean(2)\n",
    "\n",
    "print('三個channel取平均之後，shape為：', frame.shape)\n",
    "plt.imshow(frame)\n",
    "plt.show()\n",
    "\n",
    "print('像素的分佈。')\n",
    "pixel, count = np.unique(frame, return_counts=True)\n",
    "print(pixel)\n",
    "print(count)"
   ]
  },
  {
   "cell_type": "code",
   "execution_count": 10,
   "metadata": {
    "collapsed": false
   },
   "outputs": [
    {
     "name": "stdout",
     "output_type": "stream",
     "text": [
      "正規化之後，shape為： (42, 42)\n"
     ]
    },
    {
     "data": {
      "image/png": "[encoded data removed]",
      "text/plain": [
       "<matplotlib.figure.Figure at 0x7fba6941e5f8>"
      ]
     },
     "metadata": {},
     "output_type": "display_data"
    },
    {
     "name": "stdout",
     "output_type": "stream",
     "text": [
      "像素的分佈。\n",
      "[ 0.29934645  0.34509805  0.35294119  0.35555556  0.35816997  0.45359477\n",
      "  0.55947715  0.57516342]\n",
      "[   1    1 1752    1    4    1    1    3]\n"
     ]
    }
   ],
   "source": [
    "# 正規化\n",
    "frame = frame.astype(np.float32)\n",
    "frame *= (1.0 / 255.0)\n",
    "\n",
    "print('正規化之後，shape為：', frame.shape)\n",
    "plt.imshow(frame)\n",
    "plt.show()\n",
    "\n",
    "print('像素的分佈。')\n",
    "pixel, count = np.unique(frame, return_counts=True)\n",
    "print(pixel)\n",
    "print(count)"
   ]
  },
  {
   "cell_type": "markdown",
   "metadata": {},
   "source": [
    "### * NormalizedEnv類"
   ]
  },
  {
   "cell_type": "code",
   "execution_count": 11,
   "metadata": {
    "collapsed": false
   },
   "outputs": [
    {
     "name": "stdout",
     "output_type": "stream",
     "text": [
      "前處理完frame的mean: 0.353472\n",
      "前處理完frame的std:  0.0107404\n"
     ]
    }
   ],
   "source": [
    "print('前處理完frame的mean:', frame.mean())\n",
    "print('前處理完frame的std: ', frame.std())"
   ]
  },
  {
   "cell_type": "code",
   "execution_count": 12,
   "metadata": {
    "collapsed": true
   },
   "outputs": [],
   "source": [
    "state_mean = 0\n",
    "state_std = 0\n",
    "alpha = 0.9999\n",
    "num_steps = 0"
   ]
  },
  {
   "cell_type": "code",
   "execution_count": 13,
   "metadata": {
    "collapsed": false
   },
   "outputs": [],
   "source": [
    "# 例如Bootstrap的方法逼近mean與std的不偏估計\n",
    "num_steps += 1\n",
    "state_mean = state_mean * alpha + frame.mean() * (1 - alpha)\n",
    "state_std = state_std * alpha + frame.std() * (1 - alpha)\n",
    "\n",
    "unbiased_mean = state_mean / (1 - pow(alpha, num_steps))\n",
    "unbiased_std = state_std / (1 - pow(alpha, num_steps))\n",
    "\n",
    "ret = (frame - unbiased_mean) / (unbiased_std + 1e-8)"
   ]
  },
  {
   "cell_type": "code",
   "execution_count": 14,
   "metadata": {
    "collapsed": true
   },
   "outputs": [],
   "source": [
    "# class的整體樣貌\n",
    "class NormalizedEnv(gym.ObservationWrapper):\n",
    "\n",
    "    def __init__(self, env=None):\n",
    "        super(NormalizedEnv, self).__init__(env)\n",
    "        self.state_mean = 0\n",
    "        self.state_std = 0\n",
    "        self.alpha = 0.9999\n",
    "        self.num_steps = 0\n",
    "\n",
    "    def _observation(self, observation):\n",
    "        self.num_steps += 1\n",
    "        self.state_mean = self.state_mean * self.alpha + \\\n",
    "            observation.mean() * (1 - self.alpha)\n",
    "        self.state_std = self.state_std * self.alpha + \\\n",
    "            observation.std() * (1 - self.alpha)\n",
    "\n",
    "        unbiased_mean = self.state_mean / (1 - pow(self.alpha, self.num_steps))\n",
    "        unbiased_std = self.state_std / (1 - pow(self.alpha, self.num_steps))\n",
    "        ret = (observation - unbiased_mean) / (unbiased_std + 1e-8)\n",
    "        return np.expand_dims(ret, axis=0)"
   ]
  },
  {
   "cell_type": "markdown",
   "metadata": {},
   "source": [
    "# a3c.py"
   ]
  },
  {
   "cell_type": "code",
   "execution_count": 15,
   "metadata": {
    "collapsed": true
   },
   "outputs": [],
   "source": [
    "import numpy as np\n",
    "\n",
    "import torch\n",
    "import torch.nn as nn\n",
    "import torch.nn.functional as F\n",
    "import torch.optim as optim\n",
    "from torch.autograd import Variable"
   ]
  },
  {
   "cell_type": "code",
   "execution_count": 16,
   "metadata": {
    "collapsed": true
   },
   "outputs": [],
   "source": [
    "# 先創造一個環境，待會給Actor網路與Critic網路實驗\n",
    "def create_atari_env(env_id):\n",
    "    env = gym.make(env_id)\n",
    "    env = AtariRescale42x42(env)\n",
    "    env = NormalizedEnv(env)\n",
    "    return env"
   ]
  },
  {
   "cell_type": "code",
   "execution_count": 17,
   "metadata": {
    "collapsed": false
   },
   "outputs": [
    {
     "name": "stderr",
     "output_type": "stream",
     "text": [
      "[2017-06-08 04:24:55,086] Making new env: Pong-v0\n"
     ]
    },
    {
     "data": {
      "text/plain": [
       "<NormalizedEnv<AtariRescale42x42<TimeLimit<AtariEnv<Pong-v0>>>>>"
      ]
     },
     "execution_count": 17,
     "metadata": {},
     "output_type": "execute_result"
    }
   ],
   "source": [
    "env = create_atari_env('Pong-v0')\n",
    "env"
   ]
  },
  {
   "cell_type": "code",
   "execution_count": 18,
   "metadata": {
    "collapsed": false
   },
   "outputs": [
    {
     "name": "stdout",
     "output_type": "stream",
     "text": [
      "inputs size: 1\n",
      "outputs size: 6\n"
     ]
    }
   ],
   "source": [
    "# 取得Pong環境的input & output\n",
    "num_inputs = env.observation_space.shape[0]\n",
    "num_outputs = env.action_space.n\n",
    "\n",
    "print('inputs size:', num_inputs)\n",
    "print('outputs size:', num_outputs)"
   ]
  },
  {
   "cell_type": "code",
   "execution_count": 19,
   "metadata": {
    "collapsed": true
   },
   "outputs": [],
   "source": [
    "# 單看Actor網路\n",
    "class Actor(torch.nn.Module):\n",
    "    \n",
    "    def __init__(self, num_inputs, num_outputs):\n",
    "        \n",
    "        super(Actor, self).__init__()\n",
    "        \n",
    "        # 捲積層\n",
    "        # 42x42, 42+2=44, 捲成 21x21\n",
    "        self.conv1 = nn.Conv2d(num_inputs, 32, 3, stride=2, padding=1)\n",
    "        # 21x21, 21+2=23, 捲成 11x11\n",
    "        self.conv2 = nn.Conv2d(32, 32, 3, stride=2, padding=1)\n",
    "        # 11x11, 11+2=13, 捲成 6x6\n",
    "        self.conv3 = nn.Conv2d(32, 32, 3, stride=2, padding=1)\n",
    "        # 6x6, 6+2=8, 捲成 3x3 \n",
    "        self.conv4 = nn.Conv2d(32, 32, 3, stride=2, padding=1)\n",
    "        \n",
    "        # LSTM\n",
    "        self.lstm = nn.LSTMCell(32 * 3 * 3, 256)\n",
    "        \n",
    "        # actor-critic\n",
    "        self.actor_linear = nn.Linear(256, num_outputs)\n",
    "        \n",
    "    def forward(self, inputs):\n",
    "        inputs, (hx, cx) = inputs\n",
    "        x = F.elu(self.conv1(inputs))\n",
    "        x = F.elu(self.conv2(x))\n",
    "        x = F.elu(self.conv3(x))\n",
    "        x = F.elu(self.conv4(x))\n",
    "        \n",
    "        x = x.view(-1, 32 * 3 * 3) # 展開乘1x288的向量\n",
    "        hx, cx = self.lstm(x, (hx, cx))\n",
    "        x = hx\n",
    "        \n",
    "        return self.actor_linear(x)"
   ]
  },
  {
   "cell_type": "code",
   "execution_count": 20,
   "metadata": {
    "collapsed": false
   },
   "outputs": [
    {
     "name": "stdout",
     "output_type": "stream",
     "text": [
      "Actor (\n",
      "  (conv1): Conv2d(1, 32, kernel_size=(3, 3), stride=(2, 2), padding=(1, 1))\n",
      "  (conv2): Conv2d(32, 32, kernel_size=(3, 3), stride=(2, 2), padding=(1, 1))\n",
      "  (conv3): Conv2d(32, 32, kernel_size=(3, 3), stride=(2, 2), padding=(1, 1))\n",
      "  (conv4): Conv2d(32, 32, kernel_size=(3, 3), stride=(2, 2), padding=(1, 1))\n",
      "  (lstm): LSTMCell(288, 256)\n",
      "  (actor_linear): Linear (256 -> 6)\n",
      ")\n"
     ]
    }
   ],
   "source": [
    "actor = Actor(num_inputs, num_outputs)\n",
    "print(actor)"
   ]
  },
  {
   "cell_type": "code",
   "execution_count": 21,
   "metadata": {
    "collapsed": false
   },
   "outputs": [
    {
     "name": "stdout",
     "output_type": "stream",
     "text": [
      "torch.Size([1, 1, 42, 42])\n"
     ]
    }
   ],
   "source": [
    "state = env.reset()\n",
    "state = torch.from_numpy(state)\n",
    "state = Variable(state.unsqueeze(0))\n",
    "\n",
    "cx = Variable(torch.zeros(1, 256))\n",
    "hx = Variable(torch.zeros(1, 256))\n",
    "\n",
    "print(state.size())"
   ]
  },
  {
   "cell_type": "code",
   "execution_count": 22,
   "metadata": {
    "collapsed": false,
    "scrolled": true
   },
   "outputs": [
    {
     "name": "stdout",
     "output_type": "stream",
     "text": [
      "Variable containing:\n",
      "1.00000e-02 *\n",
      " -4.3549 -1.1613  7.0166 -2.2596 -0.0304 -2.6552\n",
      "[torch.FloatTensor of size 1x6]\n",
      "\n"
     ]
    }
   ],
   "source": [
    "output = actor((state, (hx, cx)))\n",
    "print(output)"
   ]
  },
  {
   "cell_type": "code",
   "execution_count": 23,
   "metadata": {
    "collapsed": true
   },
   "outputs": [],
   "source": [
    "# 接著單看Critic網路\n",
    "class Critic(torch.nn.Module):\n",
    "    \n",
    "    def __init__(self, num_inputs, num_outputs):\n",
    "        \n",
    "        super(Critic, self).__init__()\n",
    "        \n",
    "        # 捲積層\n",
    "        # 42x42, 42+2=44, 捲成 21x21\n",
    "        self.conv1 = nn.Conv2d(num_inputs, 32, 3, stride=2, padding=1)\n",
    "        # 21x21, 21+2=23, 捲成 11x11\n",
    "        self.conv2 = nn.Conv2d(32, 32, 3, stride=2, padding=1)\n",
    "        # 11x11, 11+2=13, 捲成 6x6\n",
    "        self.conv3 = nn.Conv2d(32, 32, 3, stride=2, padding=1)\n",
    "        # 6x6, 6+2=8, 捲成 3x3 \n",
    "        self.conv4 = nn.Conv2d(32, 32, 3, stride=2, padding=1)\n",
    "        \n",
    "        # LSTM\n",
    "        self.lstm = nn.LSTMCell(32 * 3 * 3, 256)\n",
    "        \n",
    "        # actor-critic\n",
    "        self.critic_linear = nn.Linear(256, 1)\n",
    "        \n",
    "    def forward(self, inputs):\n",
    "        inputs, (hx, cx) = inputs\n",
    "        x = F.elu(self.conv1(inputs))\n",
    "        x = F.elu(self.conv2(x))\n",
    "        x = F.elu(self.conv3(x))\n",
    "        x = F.elu(self.conv4(x))\n",
    "        \n",
    "        x = x.view(-1, 32 * 3 * 3) # 展開乘1x288的向量\n",
    "        hx, cx = self.lstm(x, (hx, cx))\n",
    "        x = hx\n",
    "        \n",
    "        return self.critic_linear(x)"
   ]
  },
  {
   "cell_type": "code",
   "execution_count": 24,
   "metadata": {
    "collapsed": false
   },
   "outputs": [
    {
     "name": "stdout",
     "output_type": "stream",
     "text": [
      "Critic (\n",
      "  (conv1): Conv2d(1, 32, kernel_size=(3, 3), stride=(2, 2), padding=(1, 1))\n",
      "  (conv2): Conv2d(32, 32, kernel_size=(3, 3), stride=(2, 2), padding=(1, 1))\n",
      "  (conv3): Conv2d(32, 32, kernel_size=(3, 3), stride=(2, 2), padding=(1, 1))\n",
      "  (conv4): Conv2d(32, 32, kernel_size=(3, 3), stride=(2, 2), padding=(1, 1))\n",
      "  (lstm): LSTMCell(288, 256)\n",
      "  (critic_linear): Linear (256 -> 1)\n",
      ")\n"
     ]
    }
   ],
   "source": [
    "critic = Critic(num_inputs, num_outputs)\n",
    "print(critic)"
   ]
  },
  {
   "cell_type": "code",
   "execution_count": 25,
   "metadata": {
    "collapsed": false
   },
   "outputs": [
    {
     "name": "stdout",
     "output_type": "stream",
     "text": [
      "Variable containing:\n",
      "1.00000e-04 *\n",
      "  2.3232\n",
      "[torch.FloatTensor of size 1x1]\n",
      "\n"
     ]
    }
   ],
   "source": [
    "output = critic((state, (hx, cx)))\n",
    "print(output)"
   ]
  },
  {
   "cell_type": "code",
   "execution_count": 26,
   "metadata": {
    "collapsed": false
   },
   "outputs": [
    {
     "name": "stdout",
     "output_type": "stream",
     "text": [
      "[32, 1, 3, 3]\n"
     ]
    }
   ],
   "source": [
    "# 現在來看看weights_init做了什麼事情\n",
    "conv1 = nn.Conv2d(num_inputs, 32, 3, stride=2, padding=1)\n",
    "weight_shape = list(conv1.weight.data.size())\n",
    "print(weight_shape)"
   ]
  },
  {
   "cell_type": "code",
   "execution_count": 27,
   "metadata": {
    "collapsed": false
   },
   "outputs": [
    {
     "name": "stdout",
     "output_type": "stream",
     "text": [
      "[1, 3, 3]\n",
      "9\n",
      "288\n"
     ]
    }
   ],
   "source": [
    "print(weight_shape[1:4]) # 取得權重的size，也就是convolution kernel的size\n",
    "print(np.prod(weight_shape[1:4]))\n",
    "# 因為下一個捲積層也是3x3的kernel共32個，因此9x32，也就是說output的weight param共有288個\n",
    "print(np.prod(weight_shape[2:4]) * weight_shape[0]) "
   ]
  },
  {
   "cell_type": "markdown",
   "metadata": {},
   "source": [
    "### 有了input跟output的數量就能做Xavier init，目的在於input與output有相同的variance  \n",
    "### 詳細推導可看這裡 http://ppt.cc/GDWR4"
   ]
  },
  {
   "cell_type": "code",
   "execution_count": 28,
   "metadata": {
    "collapsed": false
   },
   "outputs": [
    {
     "name": "stdout",
     "output_type": "stream",
     "text": [
      "\n",
      "(0 ,.,.) = \n",
      "  1.1217 -1.2631  0.9653\n",
      " -2.4926  2.1924  0.1206\n",
      " -0.5702 -0.8019  1.1315\n",
      "[torch.FloatTensor of size 1x3x3]\n",
      "\n",
      "\n",
      "(0 ,.,.) = \n",
      "  1.0000 -1.0000  1.0000\n",
      " -1.0000  1.0000  1.0000\n",
      " -1.0000 -1.0000  1.0000\n",
      "[torch.FloatTensor of size 1x3x3]\n",
      "\n"
     ]
    }
   ],
   "source": [
    "# normalized_columns_initializer就是做norm 2的正規化，並以std來控制拉伸的長度\n",
    "std = 1.0\n",
    "\n",
    "out = torch.randn(conv1.weight.size())\n",
    "print(out[0])\n",
    "out *= std / torch.sqrt(out.pow(2).sum(1).expand_as(out))\n",
    "print(out[0])"
   ]
  },
  {
   "cell_type": "markdown",
   "metadata": {
    "collapsed": true
   },
   "source": [
    "### 將上述融合在一起就是ActorCritic網路，除了output layer外，其餘layer共享param"
   ]
  },
  {
   "cell_type": "markdown",
   "metadata": {
    "collapsed": true
   },
   "source": [
    "\n",
    "### 實作Adam with shared statist"
   ]
  },
  {
   "cell_type": "code",
   "execution_count": 31,
   "metadata": {
    "collapsed": true
   },
   "outputs": [],
   "source": [
    "# 實作PyTorch中的Adam類，先拿剛剛的critic套入\n",
    "adam = optim.Adam(critic.parameters())"
   ]
  },
  {
   "cell_type": "code",
   "execution_count": 32,
   "metadata": {
    "collapsed": false,
    "scrolled": true
   },
   "outputs": [
    {
     "data": {
      "text/plain": [
       "dict_keys(['params', 'lr', 'betas', 'eps', 'weight_decay'])"
      ]
     },
     "execution_count": 32,
     "metadata": {},
     "output_type": "execute_result"
    }
   ],
   "source": [
    "adam.param_groups[0].keys()"
   ]
  },
  {
   "cell_type": "code",
   "execution_count": 33,
   "metadata": {
    "collapsed": false
   },
   "outputs": [
    {
     "name": "stdout",
     "output_type": "stream",
     "text": [
      "CPU times: user 4 ms, sys: 4 ms, total: 8 ms\n",
      "Wall time: 3.11 ms\n"
     ]
    }
   ],
   "source": [
    "%%time\n",
    "# 初始化Adam的統計量，如first & second moment estimate與step\n",
    "for p in adam.param_groups[0]['params']:\n",
    "    state = adam.state[p]\n",
    "    state['step'] = torch.zeros(1)\n",
    "    state['exp_avg'] = p.data.new().resize_as_(p.data).zero_()\n",
    "    state['exp_avg_sq'] = p.data.new().resize_as_(p.data).zero_()"
   ]
  },
  {
   "cell_type": "code",
   "execution_count": 34,
   "metadata": {
    "collapsed": false
   },
   "outputs": [
    {
     "data": {
      "text/plain": [
       "{'exp_avg': \n",
       "  0\n",
       " [torch.FloatTensor of size 1], 'exp_avg_sq': \n",
       "  0\n",
       " [torch.FloatTensor of size 1], 'step': \n",
       "  0\n",
       " [torch.FloatTensor of size 1]}"
      ]
     },
     "execution_count": 34,
     "metadata": {},
     "output_type": "execute_result"
    }
   ],
   "source": [
    "state"
   ]
  },
  {
   "cell_type": "code",
   "execution_count": 35,
   "metadata": {
    "collapsed": false
   },
   "outputs": [
    {
     "name": "stdout",
     "output_type": "stream",
     "text": [
      "exp_avg \n",
      " 0\n",
      "[torch.FloatTensor of size 1]\n",
      "\n",
      "exp_avg_sq \n",
      " 0\n",
      "[torch.FloatTensor of size 1]\n",
      "\n",
      "beta1 0.9\n",
      "beta2 0.999\n"
     ]
    }
   ],
   "source": [
    "# 實作Adam\n",
    "exp_avg, exp_avg_sq = state['exp_avg'], state['exp_avg_sq']\n",
    "beta1, beta2 = adam.param_groups[0]['betas']\n",
    "\n",
    "print('exp_avg', exp_avg)\n",
    "print('exp_avg_sq', exp_avg_sq)\n",
    "print('beta1', beta1)\n",
    "print('beta2', beta2)"
   ]
  },
  {
   "cell_type": "code",
   "execution_count": 36,
   "metadata": {
    "collapsed": false
   },
   "outputs": [
    {
     "name": "stdout",
     "output_type": "stream",
     "text": [
      "\n",
      " 1\n",
      "[torch.FloatTensor of size 1]\n",
      "\n",
      "\n",
      " 0.1000\n",
      "[torch.FloatTensor of size 1]\n",
      "\n",
      "\n",
      "1.00000e-03 *\n",
      "  1.0000\n",
      "[torch.FloatTensor of size 1]\n",
      "\n"
     ]
    }
   ],
   "source": [
    "# 根據Adam論文(https://arxiv.org/pdf/1412.6980.pdf)實作\n",
    "# 先假設有gradient且等於1\n",
    "grad = torch.ones(1)\n",
    "print(grad)\n",
    "\n",
    "# 以下這句等同於 exp_avg = beta1 * exp_avg + (1 - beta1) * grad\n",
    "exp_avg.mul_(beta1).add_((1 - beta1) * grad)\n",
    "print(exp_avg)\n",
    "\n",
    "# 以下這句等同於 exp_avg_sq = beta2 * exp_avg_sq + (1 - beta2) * grad^2\n",
    "exp_avg_sq.mul_(beta2).addcmul_(1 - beta2, grad, grad)\n",
    "print(exp_avg_sq)"
   ]
  },
  {
   "cell_type": "code",
   "execution_count": 37,
   "metadata": {
    "collapsed": false
   },
   "outputs": [
    {
     "name": "stdout",
     "output_type": "stream",
     "text": [
      "denom \n",
      "1.00000e-02 *\n",
      "  3.1623\n",
      "[torch.FloatTensor of size 1]\n",
      "\n",
      "bias_correction1 0.0\n",
      "bias_correction2 0.0\n",
      "step_size nan\n"
     ]
    },
    {
     "name": "stderr",
     "output_type": "stream",
     "text": [
      "/home/nailo/anaconda3/lib/python3.6/site-packages/ipykernel/__main__.py:6: RuntimeWarning: invalid value encountered in double_scalars\n"
     ]
    }
   ],
   "source": [
    "# 以下都是實作Adam論文，詳情請看論文第2頁\n",
    "\n",
    "denom = exp_avg_sq.sqrt().add_(adam.param_groups[0]['eps'])\n",
    "bias_correction1 = 1 - beta1 ** state['step'][0]\n",
    "bias_correction2 = 1 - beta2 ** state['step'][0]\n",
    "step_size = adam.param_groups[0]['lr'] * np.sqrt(bias_correction2) / bias_correction1\n",
    "\n",
    "print('denom', denom)\n",
    "print('bias_correction1', bias_correction1)\n",
    "print('bias_correction2', bias_correction2)\n",
    "print('step_size', step_size)"
   ]
  },
  {
   "cell_type": "markdown",
   "metadata": {},
   "source": [
    "# actor.py"
   ]
  },
  {
   "cell_type": "code",
   "execution_count": 38,
   "metadata": {
    "collapsed": false
   },
   "outputs": [
    {
     "name": "stderr",
     "output_type": "stream",
     "text": [
      "[2017-06-08 04:25:04,825] Making new env: Pong-v0\n"
     ]
    },
    {
     "name": "stdout",
     "output_type": "stream",
     "text": [
      "Variable containing:\n",
      "1.00000e-02 *\n",
      " -4.3549 -1.1613  7.0166 -2.2596 -0.0304 -2.6552\n",
      "[torch.FloatTensor of size 1x6]\n",
      "\n"
     ]
    }
   ],
   "source": [
    "# actor.py實作了每個thread的actor-learner\n",
    "# 拿actor網路來做實驗\n",
    "\n",
    "env = create_atari_env('Pong-v0')\n",
    "state = env.reset()\n",
    "state = torch.from_numpy(state)\n",
    "state = Variable(state.unsqueeze(0))\n",
    "\n",
    "cx = Variable(torch.zeros(1, 256))\n",
    "hx = Variable(torch.zeros(1, 256))\n",
    "\n",
    "output = actor((state, (hx, cx)))\n",
    "print(output)"
   ]
  },
  {
   "cell_type": "code",
   "execution_count": 39,
   "metadata": {
    "collapsed": false,
    "scrolled": true
   },
   "outputs": [
    {
     "name": "stdout",
     "output_type": "stream",
     "text": [
      "prob: [ 0.16037484  0.16557916  0.17968914  0.1637705   0.16746235  0.16312402]\n",
      "log_prob: [-1.83024144 -1.79830587 -1.71652699 -1.80928922 -1.78699672 -1.81324446]\n",
      "entropy: 1.79107\n"
     ]
    }
   ],
   "source": [
    "# 由於為了計算entropy，因此建神經網路時最後一層不套activation function\n",
    "# 得出output後再各別計算probability與log probability\n",
    "\n",
    "prob = F.softmax(output)\n",
    "log_prob = F.log_softmax(output)\n",
    "entropy = -(log_prob * prob).sum(1)\n",
    "\n",
    "print('prob:', prob.data.numpy()[0])\n",
    "print('log_prob:', log_prob.data.numpy()[0])\n",
    "print('entropy:', entropy.data.numpy()[0][0])"
   ]
  },
  {
   "cell_type": "code",
   "execution_count": 40,
   "metadata": {
    "collapsed": false
   },
   "outputs": [
    {
     "name": "stdout",
     "output_type": "stream",
     "text": [
      "(array([0, 1, 2, 3, 4, 5]), array([157, 158, 194, 173, 161, 157]))\n"
     ]
    }
   ],
   "source": [
    "# 從multinomial分佈中抽樣，例如抽一千次，分佈長以下這樣\n",
    "actions = []\n",
    "for _ in range(1000):\n",
    "    actions.append(prob.multinomial().data.numpy()[0][0])\n",
    "    \n",
    "print(np.unique(actions, return_counts=True))"
   ]
  }
 ],
 "metadata": {
  "kernelspec": {
   "display_name": "Python 3",
   "language": "python",
   "name": "python3"
  },
  "language_info": {
   "codemirror_mode": {
    "name": "ipython",
    "version": 3
   },
   "file_extension": ".py",
   "mimetype": "text/x-python",
   "name": "python",
   "nbconvert_exporter": "python",
   "pygments_lexer": "ipython3",
   "version": "3.6.0"
  }
 },
 "nbformat": 4,
 "nbformat_minor": 2
}
